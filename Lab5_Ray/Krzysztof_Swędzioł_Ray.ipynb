{
  "nbformat": 4,
  "nbformat_minor": 0,
  "metadata": {
    "colab": {
      "provenance": []
    },
    "kernelspec": {
      "name": "python3",
      "display_name": "Python 3"
    },
    "language_info": {
      "name": "python"
    }
  },
  "cells": [
    {
      "cell_type": "markdown",
      "source": [
        "Krzysztof Swędzioł - Ray, File Management System"
      ],
      "metadata": {
        "id": "rvVoCZVasgDh"
      }
    },
    {
      "cell_type": "markdown",
      "source": [
        "Instalacja wszystkiego co potrzebne :"
      ],
      "metadata": {
        "id": "zKfHyyEOtYpi"
      }
    },
    {
      "cell_type": "code",
      "source": [
        "!pip install -q \"ray[default]\""
      ],
      "metadata": {
        "id": "AbThRLB9r9PD"
      },
      "execution_count": 5,
      "outputs": []
    },
    {
      "cell_type": "markdown",
      "source": [
        "Wszystkie potrzebne importy:"
      ],
      "metadata": {
        "id": "vAoAOH5htcqU"
      }
    },
    {
      "cell_type": "code",
      "source": [
        "import ray\n",
        "import math\n",
        "import random\n",
        "import asyncio\n",
        "ray.shutdown()\n",
        "ray.init()"
      ],
      "metadata": {
        "id": "wTO8YCKTtUMx",
        "colab": {
          "base_uri": "https://localhost:8080/",
          "height": 92
        },
        "outputId": "4c8192e1-f392-4f72-8ba6-21bb488c216e"
      },
      "execution_count": 18,
      "outputs": [
        {
          "output_type": "stream",
          "name": "stderr",
          "text": [
            "2025-05-07 08:02:15,123\tINFO worker.py:1879 -- Started a local Ray instance. View the dashboard at \u001b[1m\u001b[32mhttp://127.0.0.1:8266 \u001b[39m\u001b[22m\n"
          ]
        },
        {
          "output_type": "execute_result",
          "data": {
            "text/plain": [
              "RayContext(dashboard_url='127.0.0.1:8266', python_version='3.11.12', ray_version='2.45.0', ray_commit='4883bd5f66086771574a2f4f990effc505f569bc')"
            ],
            "text/html": [
              "<div class=\"lm-Widget p-Widget lm-Panel p-Panel jp-Cell-outputWrapper\">\n",
              "    <div style=\"margin-left: 50px;display: flex;flex-direction: row;align-items: center\">\n",
              "        <div class=\"jp-RenderedHTMLCommon\" style=\"display: flex; flex-direction: row;\">\n",
              "  <svg viewBox=\"0 0 567 224\" fill=\"none\" xmlns=\"http://www.w3.org/2000/svg\" style=\"height: 3em;\">\n",
              "    <g clip-path=\"url(#clip0_4338_178347)\">\n",
              "        <path d=\"M341.29 165.561H355.29L330.13 129.051C345.63 123.991 354.21 112.051 354.21 94.2307C354.21 71.3707 338.72 58.1807 311.88 58.1807H271V165.561H283.27V131.661H311.8C314.25 131.661 316.71 131.501 319.01 131.351L341.25 165.561H341.29ZM283.29 119.851V70.0007H311.82C331.3 70.0007 342.34 78.2907 342.34 94.5507C342.34 111.271 331.34 119.861 311.82 119.861L283.29 119.851ZM451.4 138.411L463.4 165.561H476.74L428.74 58.1807H416L367.83 165.561H380.83L392.83 138.411H451.4ZM446.19 126.601H398L422 72.1407L446.24 126.601H446.19ZM526.11 128.741L566.91 58.1807H554.35L519.99 114.181L485.17 58.1807H472.44L514.01 129.181V165.541H526.13V128.741H526.11Z\" fill=\"var(--jp-ui-font-color0)\"/>\n",
              "        <path d=\"M82.35 104.44C84.0187 97.8827 87.8248 92.0678 93.1671 87.9146C98.5094 83.7614 105.083 81.5067 111.85 81.5067C118.617 81.5067 125.191 83.7614 130.533 87.9146C135.875 92.0678 139.681 97.8827 141.35 104.44H163.75C164.476 101.562 165.622 98.8057 167.15 96.2605L127.45 56.5605C121.071 60.3522 113.526 61.6823 106.235 60.3005C98.9443 58.9187 92.4094 54.9203 87.8602 49.0574C83.3109 43.1946 81.0609 35.8714 81.5332 28.4656C82.0056 21.0599 85.1679 14.0819 90.4252 8.8446C95.6824 3.60726 102.672 0.471508 110.08 0.0272655C117.487 -0.416977 124.802 1.86091 130.647 6.4324C136.493 11.0039 140.467 17.5539 141.821 24.8501C143.175 32.1463 141.816 39.6859 138 46.0505L177.69 85.7505C182.31 82.9877 187.58 81.4995 192.962 81.4375C198.345 81.3755 203.648 82.742 208.33 85.3976C213.012 88.0532 216.907 91.9029 219.616 96.5544C222.326 101.206 223.753 106.492 223.753 111.875C223.753 117.258 222.326 122.545 219.616 127.197C216.907 131.848 213.012 135.698 208.33 138.353C203.648 141.009 198.345 142.375 192.962 142.313C187.58 142.251 182.31 140.763 177.69 138L138 177.7C141.808 184.071 143.155 191.614 141.79 198.91C140.424 206.205 136.44 212.75 130.585 217.313C124.731 221.875 117.412 224.141 110.004 223.683C102.596 223.226 95.6103 220.077 90.3621 214.828C85.1139 209.58 81.9647 202.595 81.5072 195.187C81.0497 187.779 83.3154 180.459 87.878 174.605C92.4405 168.751 98.9853 164.766 106.281 163.401C113.576 162.035 121.119 163.383 127.49 167.19L167.19 127.49C165.664 124.941 164.518 122.182 163.79 119.3H141.39C139.721 125.858 135.915 131.673 130.573 135.826C125.231 139.98 118.657 142.234 111.89 142.234C105.123 142.234 98.5494 139.98 93.2071 135.826C87.8648 131.673 84.0587 125.858 82.39 119.3H60C58.1878 126.495 53.8086 132.78 47.6863 136.971C41.5641 141.163 34.1211 142.972 26.7579 142.059C19.3947 141.146 12.6191 137.574 7.70605 132.014C2.79302 126.454 0.0813599 119.29 0.0813599 111.87C0.0813599 104.451 2.79302 97.2871 7.70605 91.7272C12.6191 86.1673 19.3947 82.5947 26.7579 81.6817C34.1211 80.7686 41.5641 82.5781 47.6863 86.7696C53.8086 90.9611 58.1878 97.2456 60 104.44H82.35ZM100.86 204.32C103.407 206.868 106.759 208.453 110.345 208.806C113.93 209.159 117.527 208.258 120.522 206.256C123.517 204.254 125.725 201.276 126.771 197.828C127.816 194.38 127.633 190.677 126.253 187.349C124.874 184.021 122.383 181.274 119.205 179.577C116.027 177.88 112.359 177.337 108.826 178.042C105.293 178.746 102.113 180.654 99.8291 183.44C97.5451 186.226 96.2979 189.718 96.3 193.32C96.2985 195.364 96.7006 197.388 97.4831 199.275C98.2656 201.163 99.4132 202.877 100.86 204.32ZM204.32 122.88C206.868 120.333 208.453 116.981 208.806 113.396C209.159 109.811 208.258 106.214 206.256 103.219C204.254 100.223 201.275 98.0151 197.827 96.97C194.38 95.9249 190.676 96.1077 187.348 97.4873C184.02 98.8669 181.274 101.358 179.577 104.536C177.879 107.714 177.337 111.382 178.041 114.915C178.746 118.448 180.653 121.627 183.439 123.911C186.226 126.195 189.717 127.443 193.32 127.44C195.364 127.443 197.388 127.042 199.275 126.259C201.163 125.476 202.878 124.328 204.32 122.88ZM122.88 19.4205C120.333 16.8729 116.981 15.2876 113.395 14.9347C109.81 14.5817 106.213 15.483 103.218 17.4849C100.223 19.4868 98.0146 22.4654 96.9696 25.9131C95.9245 29.3608 96.1073 33.0642 97.4869 36.3922C98.8665 39.7202 101.358 42.4668 104.535 44.1639C107.713 45.861 111.381 46.4036 114.914 45.6992C118.447 44.9949 121.627 43.0871 123.911 40.301C126.195 37.515 127.442 34.0231 127.44 30.4205C127.44 28.3772 127.038 26.3539 126.255 24.4664C125.473 22.5788 124.326 20.8642 122.88 19.4205ZM19.42 100.86C16.8725 103.408 15.2872 106.76 14.9342 110.345C14.5813 113.93 15.4826 117.527 17.4844 120.522C19.4863 123.518 22.4649 125.726 25.9127 126.771C29.3604 127.816 33.0638 127.633 36.3918 126.254C39.7198 124.874 42.4664 122.383 44.1635 119.205C45.8606 116.027 46.4032 112.359 45.6988 108.826C44.9944 105.293 43.0866 102.114 40.3006 99.8296C37.5145 97.5455 34.0227 96.2983 30.42 96.3005C26.2938 96.3018 22.337 97.9421 19.42 100.86ZM100.86 100.86C98.3125 103.408 96.7272 106.76 96.3742 110.345C96.0213 113.93 96.9226 117.527 98.9244 120.522C100.926 123.518 103.905 125.726 107.353 126.771C110.8 127.816 114.504 127.633 117.832 126.254C121.16 124.874 123.906 122.383 125.604 119.205C127.301 116.027 127.843 112.359 127.139 108.826C126.434 105.293 124.527 102.114 121.741 99.8296C118.955 97.5455 115.463 96.2983 111.86 96.3005C109.817 96.299 107.793 96.701 105.905 97.4835C104.018 98.2661 102.303 99.4136 100.86 100.86Z\" fill=\"#00AEEF\"/>\n",
              "    </g>\n",
              "    <defs>\n",
              "        <clipPath id=\"clip0_4338_178347\">\n",
              "            <rect width=\"566.93\" height=\"223.75\" fill=\"white\"/>\n",
              "        </clipPath>\n",
              "    </defs>\n",
              "  </svg>\n",
              "</div>\n",
              "\n",
              "        <table class=\"jp-RenderedHTMLCommon\" style=\"border-collapse: collapse;color: var(--jp-ui-font-color1);font-size: var(--jp-ui-font-size1);\">\n",
              "    <tr>\n",
              "        <td style=\"text-align: left\"><b>Python version:</b></td>\n",
              "        <td style=\"text-align: left\"><b>3.11.12</b></td>\n",
              "    </tr>\n",
              "    <tr>\n",
              "        <td style=\"text-align: left\"><b>Ray version:</b></td>\n",
              "        <td style=\"text-align: left\"><b>2.45.0</b></td>\n",
              "    </tr>\n",
              "    <tr>\n",
              "    <td style=\"text-align: left\"><b>Dashboard:</b></td>\n",
              "    <td style=\"text-align: left\"><b><a href=\"http://127.0.0.1:8266\" target=\"_blank\">http://127.0.0.1:8266</a></b></td>\n",
              "</tr>\n",
              "\n",
              "</table>\n",
              "\n",
              "    </div>\n",
              "</div>\n"
            ]
          },
          "metadata": {},
          "execution_count": 18
        }
      ]
    },
    {
      "cell_type": "markdown",
      "source": [
        "Konfiguracja:"
      ],
      "metadata": {
        "id": "aQHOKBortg2y"
      }
    },
    {
      "cell_type": "code",
      "source": [
        "CHUNK_SIZE = 5\n",
        "REPLICATION_FACTOR = 2"
      ],
      "metadata": {
        "id": "b-VBSn5Xtggw"
      },
      "execution_count": 19,
      "outputs": []
    },
    {
      "cell_type": "markdown",
      "source": [
        "Wszystkie potrzebne klasy:"
      ],
      "metadata": {
        "id": "_zPHz6-8tn1p"
      }
    },
    {
      "cell_type": "code",
      "source": [
        "@ray.remote(max_restarts=-1, max_task_retries=-1, max_concurrency=8)\n",
        "class NameNode:\n",
        "  def __init__(self, poll_interval: float = 1.0):\n",
        "    self._poll_interval = poll_interval\n",
        "    self.storage_nodes = []\n",
        "    self.artefacts = {}                   #{name : [storage_nodes], chunks_amount}\n",
        "    asyncio.get_event_loop().create_task(self._monitor_loop())\n",
        "\n",
        "  async def _monitor_loop(self):\n",
        "    while True:\n",
        "      await asyncio.sleep(self._poll_interval)\n",
        "      self.monitor_storage_nodes()\n",
        "\n",
        "  def add_storage_node(self, storage_node):\n",
        "    if storage_node in self.storage_nodes:\n",
        "      print(\"The storage node is already present, you can't add it again\")\n",
        "    else:\n",
        "      self.storage_nodes.append(storage_node)\n",
        "\n",
        "  def remove_storage_node(self, storage_node):\n",
        "    if storage_node in self.storage_nodes:\n",
        "      self.storage_nodes.remove(storage_node)\n",
        "      self.clear_after_storage_node(storage_node)\n",
        "    else:\n",
        "      print(\"The storage node is not present, you can't remove it\")\n",
        "\n",
        "  def clear_after_storage_node(self, storage_node):\n",
        "    for key in self.artefacts:\n",
        "      curr_storages = self.artefacts[key][0]\n",
        "      if storage_node in curr_storages:\n",
        "        curr_storages.remove(storage_node)\n",
        "        self.artefacts[key][0] = curr_storages\n",
        "\n",
        "  def get_two_healthy_nodes(self):\n",
        "    healthy_nodes = []\n",
        "    for node in self.storage_nodes:\n",
        "      try:\n",
        "        if not ray.get(node.is_broken_node.remote()):\n",
        "          healthy_nodes.append(node)\n",
        "      except:\n",
        "        continue\n",
        "\n",
        "    if len(healthy_nodes) < 2:\n",
        "      return None, None\n",
        "\n",
        "    chosen = random.sample(healthy_nodes, 2)\n",
        "    return chosen[0], chosen[1]\n",
        "\n",
        "  def get_artefact(self, name):\n",
        "    if name not in self.artefacts:\n",
        "        print(\"There is no artefact with such name\")\n",
        "        return None\n",
        "\n",
        "    chunks_amount = self.artefacts[name][1]\n",
        "    chunk_map = {}\n",
        "\n",
        "    valid_nodes = []\n",
        "    for node in self.artefacts[name][0]:\n",
        "        try:\n",
        "            if ray.get(node.is_broken_node.remote()) == False:\n",
        "                valid_nodes.append(node)\n",
        "        except:\n",
        "            print(\"Error checking node status\")\n",
        "\n",
        "    if not valid_nodes:\n",
        "        print(\"No available nodes to reconstruct artefact.\")\n",
        "        return None\n",
        "\n",
        "    refs = [node.get_chunks.remote(name) for node in valid_nodes]\n",
        "    try:\n",
        "        results = ray.get(refs)\n",
        "    except:\n",
        "        print(\"Error retrieving chunks from storage nodes.\")\n",
        "        return None\n",
        "\n",
        "    for chunk_list in results:\n",
        "        sorted_chunks = sorted(chunk_list, key=lambda x: x[1])\n",
        "        for chunk_data, chunk_id in sorted_chunks:\n",
        "            if chunk_id not in chunk_map:\n",
        "                chunk_map[chunk_id] = chunk_data\n",
        "\n",
        "    result_list = []\n",
        "    for i in range(chunks_amount):\n",
        "        if i in chunk_map:\n",
        "            result_list.append(chunk_map[i])\n",
        "        else:\n",
        "            print(f\"Missing chunk {i}!\")\n",
        "            return None\n",
        "\n",
        "    return \"\".join(result_list)\n",
        "\n",
        "  def add_artefact(self, name, artefact):\n",
        "    if name in self.artefacts:\n",
        "      print(\"There is already an artefact with such name\")\n",
        "      return\n",
        "\n",
        "    if len(self.storage_nodes) < 2:\n",
        "      print(\"Not enough storage nodes to replicate artefact\")\n",
        "      return\n",
        "\n",
        "    chunks_amount = math.ceil(len(artefact) / CHUNK_SIZE)\n",
        "    self.artefacts[name] = [[], chunks_amount]\n",
        "    curr_chunk_id = 0\n",
        "\n",
        "    iterator = 0\n",
        "    while iterator < len(artefact):\n",
        "      curr_chunk = artefact[iterator:iterator + CHUNK_SIZE]\n",
        "      random_node1, random_node2 = self.get_two_healthy_nodes()\n",
        "      if not random_node1 or not random_node2:\n",
        "          print(\"Not enough healthy nodes to replicate chunk.\")\n",
        "          return\n",
        "      try:\n",
        "        random_node1.add_chunk.remote(name, [curr_chunk, curr_chunk_id])\n",
        "        random_node2.add_chunk.remote(name, [curr_chunk, curr_chunk_id])\n",
        "      except:\n",
        "        print(\"Error sending chunk to storage node\")\n",
        "      self.artefacts[name][0].append(random_node1)\n",
        "      self.artefacts[name][0].append(random_node2)\n",
        "      curr_chunk_id += 1\n",
        "      iterator += CHUNK_SIZE\n",
        "\n",
        "  def remove_artefact(self, name):\n",
        "    if name not in self.artefacts:\n",
        "      print(\"There is no artefact with such name\")\n",
        "      return\n",
        "\n",
        "    curr_storages = self.artefacts[name][0]\n",
        "    for storage in curr_storages:\n",
        "      try:\n",
        "        storage.remove_chunks.remote(name)\n",
        "      except:\n",
        "        print(\"Failed to notify node to remove chunk\")\n",
        "    del self.artefacts[name]\n",
        "\n",
        "  def monitor_storage_nodes(self):\n",
        "    for storage_node in self.storage_nodes:\n",
        "      try:\n",
        "        if ray.get(storage_node.is_broken_node.remote()):\n",
        "          self.remove_storage_node(storage_node)\n",
        "      except:\n",
        "        print(\"Failed to check or remove broken storage node\")\n",
        "\n",
        "  def listen_for_commands(self):\n",
        "    print(\"Available commands: add_artefact, remove_artefact, get_artefact, break_node, list_chunks\")\n",
        "\n",
        "  def list_chunks(self):\n",
        "    for i, node in enumerate(self.storage_nodes):\n",
        "      try:\n",
        "        chunks = ray.get(node.get_all_chunks.remote())\n",
        "        print(f\"Node {i+1} ({ray.get(node.get_name.remote())}):\")\n",
        "        if chunks:\n",
        "          for artefact, chunk_list in chunks.items():\n",
        "            print(f\"  {artefact}: {[chunk[1] for chunk in chunk_list]}\")\n",
        "        else:\n",
        "          print(\"  brak chunków\")\n",
        "      except:\n",
        "        print(f\"Node {i+1}: błąd podczas pobierania danych\")"
      ],
      "metadata": {
        "id": "wlKo5C2LtnhX"
      },
      "execution_count": 20,
      "outputs": []
    },
    {
      "cell_type": "code",
      "source": [
        "@ray.remote\n",
        "class StorageNode:\n",
        "    def __init__(self, name):\n",
        "        self.name = name\n",
        "        self.chunks = {}  # {name: [[chunk1, id1], [chunk2, id2], ...]}\n",
        "        self.is_broken = False\n",
        "\n",
        "    def add_chunk(self, name, chunk):\n",
        "        if name not in self.chunks:\n",
        "            self.chunks[name] = []\n",
        "        self.chunks[name].append(chunk)\n",
        "\n",
        "    def remove_chunks(self, name):\n",
        "        if name in self.chunks:\n",
        "            del self.chunks[name]\n",
        "\n",
        "    def get_chunks(self, name):\n",
        "        return self.chunks.get(name, [])\n",
        "\n",
        "    def fill_artefact_gaps(self, artefact_name, resulting_array):\n",
        "        chunks = self.chunks.get(artefact_name, [])\n",
        "        for chunk in chunks:\n",
        "            chunk_id = chunk[1]\n",
        "            if resulting_array[chunk_id] is None:\n",
        "                resulting_array[chunk_id] = chunk[0]\n",
        "        return resulting_array\n",
        "\n",
        "    def is_broken_node(self):\n",
        "        return self.is_broken\n",
        "\n",
        "    def break_node(self):\n",
        "        self.is_broken = True\n",
        "\n",
        "    def get_all_chunks(self):\n",
        "        return self.chunks\n",
        "\n",
        "    def get_name(self):\n",
        "        return self.name\n"
      ],
      "metadata": {
        "id": "B_dc-WATt1P9"
      },
      "execution_count": 21,
      "outputs": []
    },
    {
      "cell_type": "markdown",
      "source": [
        "Inicjalizacja wszystkiego :"
      ],
      "metadata": {
        "id": "UO7OZuMq2OnH"
      }
    },
    {
      "cell_type": "code",
      "source": [
        "nameNode = NameNode.remote()\n",
        "\n",
        "storageNode1 = StorageNode.remote(\"storageNode1\")\n",
        "storageNode2 = StorageNode.remote(\"storageNode2\")\n",
        "storageNode3 = StorageNode.remote(\"storageNode3\")\n",
        "storageNode4 = StorageNode.remote(\"storageNode4\")\n",
        "\n",
        "ray.get(nameNode.add_storage_node.remote(storageNode1))\n",
        "ray.get(nameNode.add_storage_node.remote(storageNode2))\n",
        "ray.get(nameNode.add_storage_node.remote(storageNode3))\n",
        "ray.get(nameNode.add_storage_node.remote(storageNode4))\n",
        "\n",
        "storage_nodes = [storageNode1, storageNode2, storageNode3, storageNode4]\n"
      ],
      "metadata": {
        "id": "bs4Eum3F2OU9"
      },
      "execution_count": 22,
      "outputs": []
    },
    {
      "cell_type": "markdown",
      "source": [
        "Klient i prezentacja działania programu:"
      ],
      "metadata": {
        "id": "echKzdpxt-61"
      }
    },
    {
      "cell_type": "code",
      "source": [
        "def client_interface(name_node, storage_nodes):\n",
        "    print(\"Dostępne komendy:\")\n",
        "    print(\" - add_artefact <nazwa> <dane>\")\n",
        "    print(\" - remove_artefact <nazwa>\")\n",
        "    print(\" - get_artefact <nazwa>\")\n",
        "    print(\" - list_chunks\")\n",
        "    print(\" - break_node <numer_od_1_do_n>\")\n",
        "    print(\" - exit\")\n",
        "    print(\"\")\n",
        "\n",
        "    while True:\n",
        "        cmd = input(\">>> \").strip()\n",
        "        parts = cmd.split()\n",
        "\n",
        "        if not parts:\n",
        "            continue\n",
        "\n",
        "        match parts[0]:\n",
        "            case \"add_artefact\":\n",
        "                if len(parts) < 3:\n",
        "                    print(\"Użycie: add_artefact <nazwa> <dane>\")\n",
        "                else:\n",
        "                    name = parts[1]\n",
        "                    data = \" \".join(parts[2:])\n",
        "                    ray.get(name_node.add_artefact.remote(name, data))\n",
        "\n",
        "            case \"remove_artefact\":\n",
        "                if len(parts) != 2:\n",
        "                    print(\"Użycie: remove_artefact <nazwa>\")\n",
        "                else:\n",
        "                    ray.get(name_node.remove_artefact.remote(parts[1]))\n",
        "\n",
        "            case \"get_artefact\":\n",
        "                if len(parts) != 2:\n",
        "                    print(\"Użycie: get_artefact <nazwa>\")\n",
        "                else:\n",
        "                    result = ray.get(name_node.get_artefact.remote(parts[1]))\n",
        "                    if result:\n",
        "                        print(\"Zawartość:\", result)\n",
        "\n",
        "            case \"list_chunks\":\n",
        "                ray.get(name_node.list_chunks.remote())\n",
        "\n",
        "            case \"break_node\":\n",
        "                if len(parts) != 2:\n",
        "                    print(\"Użycie: break_node <numer_od_1_do_n>\")\n",
        "                else:\n",
        "                    try:\n",
        "                        index = int(parts[1]) - 1\n",
        "                        node = storage_nodes[index]\n",
        "                        ray.get(node.break_node.remote())\n",
        "                        print(f\" Node {index+1} został uszkodzony.\")\n",
        "                    except:\n",
        "                        print(\"Nieprawidłowy numer node'a.\")\n",
        "\n",
        "            case \"exit\":\n",
        "                print(\"Zamykanie klienta.\")\n",
        "                break\n",
        "\n",
        "            case _:\n",
        "                print(\"Nieznana komenda.\")\n",
        "\n",
        "client_interface(nameNode, storage_nodes)"
      ],
      "metadata": {
        "id": "WktS68jOt-mc",
        "colab": {
          "base_uri": "https://localhost:8080/"
        },
        "outputId": "4bfe98d3-6662-41e3-b7fe-ef47edc9360a"
      },
      "execution_count": 23,
      "outputs": [
        {
          "output_type": "stream",
          "name": "stdout",
          "text": [
            "Dostępne komendy:\n",
            " - add_artefact <nazwa> <dane>\n",
            " - remove_artefact <nazwa>\n",
            " - get_artefact <nazwa>\n",
            " - list_chunks\n",
            " - break_node <numer_od_1_do_n>\n",
            " - exit\n",
            "\n",
            ">>> add_artefact cos skibidibidada\n",
            ">>> get_artefact cos\n",
            "Zawartość: skibidibidada\n",
            ">>> list_chunks\n",
            "\u001b[36m(NameNode pid=26480)\u001b[0m Node 1 (storageNode1):\n",
            "\u001b[36m(NameNode pid=26480)\u001b[0m   cos: [0, 2]\n",
            "\u001b[36m(NameNode pid=26480)\u001b[0m Node 2 (storageNode2):\n",
            "\u001b[36m(NameNode pid=26480)\u001b[0m   cos: [1]\n",
            "\u001b[36m(NameNode pid=26480)\u001b[0m Node 3 (storageNode3):\n",
            "\u001b[36m(NameNode pid=26480)\u001b[0m   cos: [0, 2]\n",
            "\u001b[36m(NameNode pid=26480)\u001b[0m Node 4 (storageNode4):\n",
            "\u001b[36m(NameNode pid=26480)\u001b[0m   cos: [1]\n",
            ">>> break_node 1\n",
            " Node 1 został uszkodzony.\n",
            ">>> list_chunks\n",
            "\u001b[36m(NameNode pid=26480)\u001b[0m Node 1 (storageNode2):\n",
            "\u001b[36m(NameNode pid=26480)\u001b[0m   cos: [1]\n",
            "\u001b[36m(NameNode pid=26480)\u001b[0m Node 2 (storageNode3):\n",
            "\u001b[36m(NameNode pid=26480)\u001b[0m   cos: [0, 2]\n",
            "\u001b[36m(NameNode pid=26480)\u001b[0m Node 3 (storageNode4):\n",
            "\u001b[36m(NameNode pid=26480)\u001b[0m   cos: [1]\n",
            ">>> get_artefact cos\n",
            "Zawartość: skibidibidada\n",
            ">>> exit\n",
            "Zamykanie klienta.\n"
          ]
        }
      ]
    }
  ]
}